{
 "cells": [
  {
   "cell_type": "code",
   "execution_count": 1,
   "metadata": {},
   "outputs": [],
   "source": [
    "%defaultDatasource jdbc:h2:mem:db"
   ]
  },
  {
   "cell_type": "markdown",
   "metadata": {},
   "source": [
    "### Normalização\n",
    "De acordo com a tabela principal, pensamos em modificações e otimizações reconhecendo as dependências funcionais entre as colunas. Percebemos que o país e o ano determinam o PIB anual, PIB per capita e a população. Analogamente, a idade determina a geração de um grupo de pessoas.\n",
    "Logo, construímos as seguintes tabelas de acordo com a normalização feita:\n",
    " \n",
    "Principal(**<ins>country</ins>**, **<ins>year</ins>**, **<ins>age</ins>**, **<ins>sex</ins>**, suicide_rate);\n",
    " \n",
    "Pais(**<ins>country</ins>**, **<ins>year</ins>**, gdp_for_year, gdp_per_capita, population);\n",
    " \n",
    "Geração(**<ins>age</ins>**, generation).\n",
    " \n",
    "No entanto, a tabela tirada diretamente do Kaggle representa um modelo que não podemos usar diretamente para o nosso banco de dados relacional, logo é necessário a limpeza desses dados. A exemplo, temos a tabela de geração na qual grupos de idades determinam gerações diferentes.\n",
    " \n",
    "Isso não foi feito durante esta etapa do trabalho mas estará feita até a próxima. Por isso, tivemos que considerar a criação excessiva de VIEWS para responder as perguntas que fizemos.\n",
    " \n",
    "Os resultados das execuções das queries encontram-se abaixo.\n"
   ]
  },
  {
   "cell_type": "markdown",
   "metadata": {},
   "source": [
    "# Importando Tabelas"
   ]
  },
  {
   "cell_type": "code",
   "execution_count": 2,
   "metadata": {},
   "outputs": [
    {
     "data": {
      "application/vnd.jupyter.widget-view+json": {
       "model_id": "36064816-35d6-4532-b12a-86a978179ca4",
       "version_major": 2,
       "version_minor": 0
      },
      "method": "display_data"
     },
     "metadata": {},
     "output_type": "display_data"
    },
    {
     "data": {
      "application/vnd.jupyter.widget-view+json": {
       "model_id": "3896408b-b278-4056-9007-0b5488f47b5e",
       "version_major": 2,
       "version_minor": 0
      },
      "method": "display_data"
     },
     "metadata": {},
     "output_type": "display_data"
    },
    {
     "data": {
      "application/vnd.jupyter.widget-view+json": {
       "model_id": "f3b4a902-6a6f-440e-af17-68e1022e1892",
       "version_major": 2,
       "version_minor": 0
      },
      "method": "display_data"
     },
     "metadata": {},
     "output_type": "display_data"
    }
   ],
   "source": [
    "DROP TABLE IF EXISTS Principal;\n",
    "DROP TABLE IF EXISTS Geracao;\n",
    "DROP TABLE IF EXISTS Pais;\n",
    "\n",
    "CREATE TABLE  Principal(\n",
    "    country VARCHAR(200),\n",
    "    year INTEGER,\n",
    "    sex VARCHAR(20),\n",
    "    age VARCHAR(50),\n",
    "    suicidio INTEGER,\n",
    "    taxa_suicidio DOUBLE\n",
    ") AS SELECT\n",
    "    country,\n",
    "    year,\n",
    "    sex,\n",
    "    age,\n",
    "    suicides_no,\n",
    "    suicides_rate\n",
    "FROM CSVREAD('master.csv');\n",
    "\n",
    "CREATE TABLE  Geracao(\n",
    "    age VARCHAR(20),\n",
    "    generation VARCHAR(20),\n",
    ") AS SELECT\n",
    "    age,\n",
    "    generation\n",
    "FROM CSVREAD('master.csv');\n",
    "\n",
    "CREATE TABLE  Pais(\n",
    "    country VARCHAR(50),\n",
    "    year INTEGER,\n",
    "    gdp_for_year BIGINT,\n",
    "    gdp_per_capita  INTEGER,\n",
    "    population INTEGER\n",
    ") AS SELECT\n",
    "    country,\n",
    "    year,\n",
    "    gdp_for_year,\n",
    "    gdp_per_capita,\n",
    "    population\n",
    "FROM CSVREAD('master.csv');\n",
    "\n",
    "\n",
    "SELECT * FROM Principal;\n",
    "SELECT * FROM Geracao;\n",
    "SELECT * FROM Pais;"
   ]
  },
  {
   "cell_type": "markdown",
   "metadata": {},
   "source": [
    "# Queries\n",
    "1- Qual país teve maior taxa de suicídio em 2010?"
   ]
  },
  {
   "cell_type": "markdown",
   "metadata": {},
   "source": [
    "Primeiro criamos uma view que agrupa as maiores de taxa de suicidio com o país no ano de 2010, em seguinte uma view que verifica a maior taxa de suícidio entre esses paises, assim a resposta é encontrada slecionar qual país possui essa taxa, neste caso é a Coreia do Sul."
   ]
  },
  {
   "cell_type": "code",
   "execution_count": 3,
   "metadata": {},
   "outputs": [
    {
     "data": {
      "text/plain": [
       "Republic of Korea"
      ]
     },
     "execution_count": 3,
     "metadata": {},
     "output_type": "execute_result"
    }
   ],
   "source": [
    "DROP VIEW IF EXISTS MaiorTaxa;\n",
    "DROP VIEW IF EXISTS MaiorTaxaPais;\n",
    "\n",
    "CREATE VIEW MaiorTaxa AS \n",
    "SELECT country, MAX(taxa_suicidio) maior\n",
    "FROM Principal\n",
    "WHERE year = 2010\n",
    "GROUP BY country;\n",
    "\n",
    "CREATE VIEW MaiorTaxaPais AS \n",
    "SELECT MAX(maior) maior_pais\n",
    "FROM MaiorTaxa;\n",
    "\n",
    "SELECT MT.country\n",
    "FROM MaiorTaxa MT, MaiorTaxaPais MTP\n",
    "WHERE MT.maior = MTP.maior_pais;\n"
   ]
  },
  {
   "cell_type": "markdown",
   "metadata": {},
   "source": [
    "2 - Qual sexo tem a maior taxa de sucidios entre 25 e 34 anos em 2010?"
   ]
  },
  {
   "cell_type": "markdown",
   "metadata": {},
   "source": [
    "Foi criado uma view que selecionna a taxa de suicídio de ambos os sexos entre 25 e 34 anos em 2010, após isso selecionado o maior, obtendo sexo masculino como resposta."
   ]
  },
  {
   "cell_type": "code",
   "execution_count": 4,
   "metadata": {},
   "outputs": [
    {
     "data": {
      "text/plain": [
       "male"
      ]
     },
     "execution_count": 4,
     "metadata": {},
     "output_type": "execute_result"
    }
   ],
   "source": [
    "DROP VIEW ST IF EXISTS;\n",
    "\n",
    "CREATE VIEW ST AS SELECT sex, MAX(taxa_suicidio) AS taxa\n",
    "        FROM Principal\n",
    "        WHERE age = '25-34 years' AND year = 2010\n",
    "        GROUP BY sex;\n",
    "\n",
    "SELECT ST.sex \n",
    "    FROM (SELECT MAX(taxa) maxima FROM ST) AS MAIOR, ST\n",
    "    WHERE ST.taxa = MAIOR.maxima;"
   ]
  },
  {
   "cell_type": "markdown",
   "metadata": {},
   "source": [
    "3 - Qual o PIB per capita do país com mais suicídios entre pessoas de 25 e 34 anos?\n",
    "\n",
    "Foi criado vários views para limpar os dados da tabela e facilitar a busca, a primeira seleciona país, ano e taxa de suicidio entre pessoas de 25 a 34 anos, aí verficamos qual é a maior taxa e em que ano foi, e assim utilizamos a tabela Pais para descbobir o PIB per capita desse país e ano, resultando em 2853$."
   ]
  },
  {
   "cell_type": "code",
   "execution_count": null,
   "metadata": {},
   "outputs": [],
   "source": [
    "DROP VIEW IF EXISTS MaxSr;\n",
    "DROP VIEW IF EXISTS MaxTaxa;\n",
    "DROP VIEW IF EXISTS MaxPais;\n",
    "DROP VIEW IF EXISTS MaxAno;\n",
    "DROP VIEW IF EXISTS PaisAno;\n",
    "\n",
    "\n",
    "\n",
    "\n",
    "CREATE VIEW MaxSr AS \n",
    "SELECT country,year,MAX(taxa_suicidio) maior\n",
    "FROM Principal\n",
    "WHERE age = '25-34 years'\n",
    "GROUP BY country,year;\n",
    "\n",
    "CREATE VIEW MaxTaxa AS \n",
    "SELECT year,MAX(maior) maior_pais\n",
    "FROM MaxSr\n",
    "Group by year;\n",
    "\n",
    "CREATE VIEW MaxPais AS \n",
    "SELECT country,MAX(maior) maior_pais\n",
    "FROM MaxSr\n",
    "Group by country;\n",
    "\n",
    "CREATE VIEW MaxAno AS \n",
    "SELECT MAX(maior) maior\n",
    "FROM MaxSr;\n",
    "\n",
    "\n",
    "CREATE VIEW PaisAno AS \n",
    "SELECT MP.country, MT.year\n",
    "FROM MaxPais MP, MaxTaxa MT , MaxAno MA \n",
    "WHERE MP.maior_pais = MT.maior_pais AND  MP.maior_pais = MA.maior;\n",
    "\n",
    "SELECT TOP 1 P.gdp_per_capita\n",
    "FROM Pais P, PaisAno PA\n",
    "WHERE P.country = PA.country AND P.year = PA.year\n",
    "ORDER BY P.gdp_per_capita;\n"
   ]
  },
  {
   "cell_type": "markdown",
   "metadata": {},
   "source": [
    "4 - Qual o PIB per capita do país com a menor taxa de suicídio entre os mais idosos(75+ anos)?\n"
   ]
  },
  {
   "cell_type": "markdown",
   "metadata": {},
   "source": [
    "Semelhante a 3 usamos views para fazer uma limpeza nos dados, criamos uma  view com a  taxa de suicídio entre os idosos, pais e ano, verificamos a menor taxa de suicídio e com qual país e ano ela está relacionada, assim é possível selecionar qual o PIB desse país nesse ano, resultando em 8347$."
   ]
  },
  {
   "cell_type": "code",
   "execution_count": null,
   "metadata": {},
   "outputs": [],
   "source": [
    "DROP VIEW PaisAno IF EXISTS;\n",
    "DROP VIEW AnoEMinTaxa IF EXISTS;\n",
    "DROP VIEW PaisEMinTaxa IF EXISTS;\n",
    "DROP VIEW MinTaxa IF EXISTS;\n",
    "DROP VIEW RecorteIdososMinTaxa IF EXISTS;\n",
    "\n",
    "CREATE VIEW RecorteIdososMinTaxa AS SELECT country, year, age, MIN(taxa_suicidio) recIdosMinTaxa\n",
    "    FROM Principal\n",
    "    WHERE age = '75+ years' AND taxa_suicidio > 0\n",
    "    GROUP BY country, year;\n",
    "\n",
    "-- SELECT * FROM RecorteIdososMinTaxa;\n",
    "\n",
    "CREATE VIEW AnoEMinTaxa AS\n",
    "    SELECT year, MIN(recIdosMinTaxa) yMinTaxa\n",
    "        FROM RecorteIdososMinTaxa\n",
    "        GROUP BY year;\n",
    "\n",
    "-- SELECT * FROM AnoEMinTaxa;\n",
    "\n",
    "CREATE VIEW PaisEMinTaxa AS\n",
    "    SELECT country, MIN(recIdosMinTaxa) cMinTaxa\n",
    "        FROM RecorteIdososMInTaxa\n",
    "        GROUP BY country;\n",
    "\n",
    "-- SELECT * FROM PaisEMinTaxa;\n",
    "\n",
    "CREATE VIEW MinTaxa AS\n",
    "    SELECT MIN(recIdosMinTaxa) minTaxa\n",
    "        FROM RecorteIdososMinTaxa;\n",
    "\n",
    "-- SELECT * FROM MinTaxa;\n",
    "\n",
    "CREATE VIEW PaisAno AS\n",
    "    SELECT PMT.country, ANT.year\n",
    "        FROM PaisEMinTaxa PMT, AnoEMinTaxa ANT, MinTaxa MT\n",
    "        WHERE PMT.cMinTaxa = ANT.yMinTaxa AND PMT.cMinTaxa = MT.minTaxa;\n",
    "\n",
    "-- SELECT * FROM PaisAno;\n",
    "\n",
    "SELECT TOP 1 P.gdp_per_capita\n",
    "    FROM Pais P, PaisAno PA\n",
    "    WHERE P.country = PA.country AND P.year = PA.year\n",
    "    GROUP BY P.gdp_per_capita;\n",
    "\n",
    "DROP VIEW PaisAno IF EXISTS;\n",
    "DROP VIEW AnoEMinTaxa IF EXISTS;\n",
    "DROP VIEW PaisEMinTaxa IF EXISTS;\n",
    "DROP VIEW MinTaxa IF EXISTS;\n",
    "DROP VIEW RecorteIdososMinTaxa IF EXISTS;\n"
   ]
  },
  {
   "cell_type": "markdown",
   "metadata": {},
   "source": [
    "5- Qual a variação, em porcentagem, do índice de suicídios do ano 2010 em relação ao ano 2007 no Brasil?"
   ]
  },
  {
   "cell_type": "markdown",
   "metadata": {},
   "source": [
    "Foi pego a soma do indice de suicídio de pessoas de 25 a 34 no Brasil em 2007 e em 2010, com isso foi calculado a diferença percentual resultando num aumento de aproximadamente 11.74%."
   ]
  },
  {
   "cell_type": "code",
   "execution_count": null,
   "metadata": {},
   "outputs": [],
   "source": [
    "DROP VIEW IF EXISTS SuicideNoBr2007;\n",
    "DROP VIEW IF EXISTS SuicideNoBr2010;\n",
    "\n",
    "CREATE VIEW SuicideNoBr2007 AS\n",
    "SELECT CAST(SUM(P.suicidio) AS DOUBLE) suicidio\n",
    "FROM Principal P\n",
    "WHERE P.country = 'Brazil' AND P.year = 2007 AND P.age = '25-34 years';\n",
    "\n",
    "CREATE VIEW SuicideNoBr2010 AS\n",
    "SELECT CAST(SUM(P.suicidio) AS DOUBLE) suicidio\n",
    "FROM Principal P\n",
    "WHERE P.country = 'Brazil' AND P.year = 2010 AND P.age = '25-34 years';\n",
    "\n",
    "SELECT ( ( (S10.suicidio/S07.suicidio) - 1)*100) \n",
    "FROM SuicideNoBr2007 S07, SuicideNoBr2010 S10;"
   ]
  },
  {
   "cell_type": "code",
   "execution_count": null,
   "metadata": {},
   "outputs": [],
   "source": []
  }
 ],
 "metadata": {
  "kernelspec": {
   "display_name": "SQL",
   "language": "SQL",
   "name": "sql"
  },
  "language_info": {
   "codemirror_mode": "sql",
   "file_extension": ".sql",
   "mimetype": "",
   "name": "SQL",
   "nbconverter_exporter": "",
   "version": ""
  }
 },
 "nbformat": 4,
 "nbformat_minor": 4
}
