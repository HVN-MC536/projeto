{
 "cells": [
  {
   "cell_type": "code",
   "execution_count": 1,
   "metadata": {},
   "outputs": [],
   "source": [
    "%defaultDatasource jdbc:h2:mem:db"
   ]
  },
  {
   "cell_type": "markdown",
   "metadata": {},
   "source": [
    "### Normalização\n",
    "De acordo com a tabela principal, pensamos em modificações e otimizações reconhecendo as dependências funcionais entre as colunas. Percebemos que o país e o ano determinam o PIB anual, PIB per capita e a população. Analogamente, a idade determina a geração de um grupo de pessoas.\n",
    "Logo, construímos as seguintes tabelas de acordo com a normalização feita:\n",
    " \n",
    "Principal(**<ins>country</ins>**, **<ins>year</ins>**, **<ins>age</ins>**, **<ins>sex</ins>**, suicide_rate);\n",
    " \n",
    "Pais(**<ins>country</ins>**, **<ins>year</ins>**, gdp_for_year, gdp_per_capita, population);\n",
    " \n",
    "Geração(**<ins>age</ins>**, generation).\n",
    " \n",
    "No entanto, a tabela tirada diretamente do Kaggle representa um modelo que não podemos usar diretamente para o nosso banco de dados relacional, logo é necessário a limpeza desses dados. A exemplo, temos a tabela de geração na qual grupos de idades determinam gerações diferentes.\n",
    " \n",
    "Isso não foi feito durante esta etapa do trabalho mas estará feita até a próxima. Por isso, tivemos que considerar a criação excessiva de VIEWS para responder as perguntas que fizemos.\n",
    " \n",
    "Os resultados das execuções das queries encontram-se abaixo.\n"
   ]
  },
  {
   "cell_type": "markdown",
   "metadata": {},
   "source": [
    "# Importando Tabelas"
   ]
  },
  {
   "cell_type": "code",
   "execution_count": 2,
   "metadata": {},
   "outputs": [
    {
     "data": {
      "application/vnd.jupyter.widget-view+json": {
       "model_id": "bf6f901a-3a51-4235-b4e2-4aab9bceec13",
       "version_major": 2,
       "version_minor": 0
      },
      "method": "display_data"
     },
     "metadata": {},
     "output_type": "display_data"
    },
    {
     "data": {
      "application/vnd.jupyter.widget-view+json": {
       "model_id": "1b29dab2-cca7-45c0-b384-4e2301cfdbd3",
       "version_major": 2,
       "version_minor": 0
      },
      "method": "display_data"
     },
     "metadata": {},
     "output_type": "display_data"
    },
    {
     "data": {
      "application/vnd.jupyter.widget-view+json": {
       "model_id": "5bfeb700-6511-4116-b60b-33e4ca02ab2b",
       "version_major": 2,
       "version_minor": 0
      },
      "method": "display_data"
     },
     "metadata": {},
     "output_type": "display_data"
    }
   ],
   "source": [
    "DROP TABLE IF EXISTS Suicidios;\n",
    "DROP TABLE IF EXISTS Geracao;\n",
    "DROP TABLE IF EXISTS Pais;\n",
    "\n",
    "CREATE TABLE  Suicidios(\n",
    "    country VARCHAR(200),\n",
    "    year INTEGER,\n",
    "    sex VARCHAR(20),\n",
    "    age VARCHAR(50),\n",
    "    suicidio INTEGER,\n",
    "    taxa_suicidio DOUBLE\n",
    ") AS SELECT\n",
    "    country,\n",
    "    year,\n",
    "    sex,\n",
    "    age,\n",
    "    suicides_no,\n",
    "    suicides_rate\n",
    "FROM CSVREAD('suicides.csv');\n",
    "\n",
    "CREATE TABLE  Geracao(\n",
    "    age VARCHAR(20),\n",
    "    generation VARCHAR(20),\n",
    ") AS SELECT\n",
    "    age,\n",
    "    generation\n",
    "FROM CSVREAD('generation.csv');\n",
    "\n",
    "CREATE TABLE  Pais(\n",
    "    country VARCHAR(50),\n",
    "    year INTEGER,\n",
    "    gdp_for_year VARCHAR(50),\n",
    "    gdp_per_capita  INTEGER,\n",
    "    population INTEGER\n",
    ") AS SELECT\n",
    "    country,\n",
    "    year,\n",
    "    gdp_for_year,\n",
    "    gdp_per_capita,\n",
    "    population\n",
    "FROM CSVREAD('pais.csv');\n",
    "\n",
    "\n",
    "SELECT * FROM Suicidios;\n",
    "SELECT * FROM Geracao;\n",
    "SELECT * FROM Pais;"
   ]
  },
  {
   "cell_type": "markdown",
   "metadata": {},
   "source": [
    "# Queries\n",
    "1- Qual país teve maior taxa de suicídio em 2010?"
   ]
  },
  {
   "cell_type": "markdown",
   "metadata": {},
   "source": [
    "Primeiro criamos uma view que agrupa as maiores de taxa de suicidio com o país no ano de 2010, em seguinte uma view que verifica a maior taxa de suícidio entre esses paises, assim a resposta é encontrada slecionar qual país possui essa taxa, neste caso é a Coreia do Sul."
   ]
  },
  {
   "cell_type": "code",
   "execution_count": 3,
   "metadata": {},
   "outputs": [
    {
     "data": {
      "text/plain": [
       "Republic of Korea"
      ]
     },
     "execution_count": 3,
     "metadata": {},
     "output_type": "execute_result"
    }
   ],
   "source": [
    "DROP VIEW CMT IF EXISTS;\n",
    "DROP VIEW PYT IF EXISTS;\n",
    "\n",
    "CREATE VIEW PYT AS SELECT country, year, taxa_suicidio\n",
    "    FROM Suicidios\n",
    "    WHERE year = 2010\n",
    "    GROUP BY country, year, taxa_suicidio;\n",
    " \n",
    "CREATE VIEW CMT AS SELECT country, MAX(taxa_suicidio) taxa\n",
    "    FROM PYT\n",
    "    GROUP BY country;\n",
    "\n",
    "SELECT country\n",
    "    FROM (SELECT MAX(taxa) maior FROM CMT) AUX, CMT\n",
    "    WHERE CMT.taxa = AUX.maior;"
   ]
  },
  {
   "cell_type": "markdown",
   "metadata": {},
   "source": [
    "2 - Qual sexo tem a maior taxa de sucidios entre 25 e 34 anos em 2010?"
   ]
  },
  {
   "cell_type": "markdown",
   "metadata": {},
   "source": [
    "Foi criado uma view que selecionna a taxa de suicídio de ambos os sexos entre 25 e 34 anos em 2010, após isso selecionado o maior, obtendo sexo masculino como resposta."
   ]
  },
  {
   "cell_type": "code",
   "execution_count": 4,
   "metadata": {},
   "outputs": [
    {
     "data": {
      "text/plain": [
       "male"
      ]
     },
     "execution_count": 4,
     "metadata": {},
     "output_type": "execute_result"
    }
   ],
   "source": [
    "DROP VIEW ST IF EXISTS;\n",
    "\n",
    "CREATE VIEW ST AS SELECT sex, MAX(taxa_suicidio) AS taxa\n",
    "        FROM Suicidios\n",
    "        WHERE age = '25-34 years' AND year = 2010\n",
    "        GROUP BY sex;\n",
    "\n",
    "SELECT ST.sex \n",
    "    FROM (SELECT MAX(taxa) maxima FROM ST) AS MAIOR, ST\n",
    "    WHERE ST.taxa = MAIOR.maxima;"
   ]
  },
  {
   "cell_type": "markdown",
   "metadata": {},
   "source": [
    "3 - Qual o PIB per capita do país com mais suicídios entre pessoas de 25 e 34 anos?\n",
    "\n",
    "Foi criado vários views para limpar os dados da tabela e facilitar a busca, a primeira seleciona país, ano e taxa de suicidio entre pessoas de 25 a 34 anos, aí verficamos qual é a maior taxa e em que ano foi, e assim utilizamos a tabela Pais para descbobir o PIB per capita desse país e ano, resultando em 2853$."
   ]
  },
  {
   "cell_type": "code",
   "execution_count": 5,
   "metadata": {},
   "outputs": [
    {
     "data": {
      "text/plain": [
       "9987"
      ]
     },
     "execution_count": 5,
     "metadata": {},
     "output_type": "execute_result"
    }
   ],
   "source": [
    "DROP VIEW MY IF EXISTS;\n",
    "DROP VIEW T1 IF EXISTS;\n",
    "DROP VIEW CSS IF EXISTS;\n",
    "DROP VIEW CAS IF EXISTS;\n",
    "\n",
    "CREATE VIEW CAS AS SELECT country, age, suicidio\n",
    "    FROM Suicidios\n",
    "    WHERE age = '25-34 years'\n",
    "    GROUP BY country, year, age, sex;\n",
    "\n",
    "\n",
    "CREATE VIEW CSS AS SELECT country, SUM(suicidio) soma \n",
    "    FROM CAS \n",
    "    GROUP BY country \n",
    "    ORDER BY soma DESC;\n",
    "\n",
    "CREATE VIEW T1 AS SELECT TOP 1 country, soma FROM CSS;\n",
    "\n",
    "CREATE VIEW MY AS SELECT MAX(year) AS y\n",
    "    FROM Pais\n",
    "    WHERE country = 'Russian Federation';\n",
    "\n",
    "SELECT P.gdp_per_capita\n",
    "    FROM T1, MY, Pais P\n",
    "    WHERE 'Russian Federation' = P.country AND P.year = MY.y;"
   ]
  },
  {
   "cell_type": "markdown",
   "metadata": {},
   "source": [
    "4 - Qual o PIB per capita do país com a menor taxa de suicídio entre os mais idosos(75+ anos) em 2015?\n"
   ]
  },
  {
   "cell_type": "markdown",
   "metadata": {},
   "source": [
    "Semelhante a 3 usamos views para fazer uma limpeza nos dados, criamos uma  view com a  taxa de suicídio entre os idosos, pais e ano, verificamos a menor taxa de suicídio e com qual país e ano ela está relacionada, assim é possível selecionar qual o PIB desse país nesse ano, resultando em 7326$."
   ]
  },
  {
   "cell_type": "code",
   "execution_count": 6,
   "metadata": {},
   "outputs": [
    {
     "data": {
      "text/plain": [
       "Turkmenistan"
      ]
     },
     "execution_count": 6,
     "metadata": {},
     "output_type": "execute_result"
    }
   ],
   "source": [
    "DROP VIEW MenoresTaxasEm2015 IF EXISTS;\n",
    "\n",
    "CREATE VIEW MenoresTaxasEm2015 AS SELECT country, AVG(taxa_suicidio) media\n",
    "FROM Suicidios\n",
    "WHERE age = '75+ years' AND year = 2015\n",
    "GROUP BY country, year\n",
    "HAVING media > 0\n",
    "ORDER BY media;\n",
    "\n",
    "SELECT TOP 1 country FROM MenoresTaxasEm2015;"
   ]
  },
  {
   "cell_type": "code",
   "execution_count": 7,
   "metadata": {},
   "outputs": [
    {
     "data": {
      "text/plain": [
       "7326"
      ]
     },
     "execution_count": 7,
     "metadata": {},
     "output_type": "execute_result"
    }
   ],
   "source": [
    "SELECT gdp_per_capita\n",
    "FROM Pais\n",
    "WHERE country = 'Turkmenistan' AND year = 2015"
   ]
  },
  {
   "cell_type": "markdown",
   "metadata": {},
   "source": [
    "5- Qual a variação, em porcentagem, do índice de suicídios do ano 2010 em relação ao ano 2007 no Brasil?"
   ]
  },
  {
   "cell_type": "markdown",
   "metadata": {},
   "source": [
    "Foi pego a soma do indice de suicídio de pessoas de 25 a 34 no Brasil em 2007 e em 2010, com isso foi calculado a diferença percentual resultando num aumento de aproximadamente 11.74%."
   ]
  },
  {
   "cell_type": "code",
   "execution_count": 8,
   "metadata": {},
   "outputs": [
    {
     "data": {
      "text/plain": [
       "11.74412793603199"
      ]
     },
     "execution_count": 8,
     "metadata": {},
     "output_type": "execute_result"
    }
   ],
   "source": [
    "DROP VIEW IF EXISTS SuicideNoBr2007;\n",
    "DROP VIEW IF EXISTS SuicideNoBr2010;\n",
    "\n",
    "CREATE VIEW SuicideNoBr2007 AS\n",
    "SELECT CAST(SUM(S.suicidio) AS DOUBLE) suicidio\n",
    "FROM Suicidios S\n",
    "WHERE S.country = 'Brazil' AND S.year = 2007 AND S.age = '25-34 years';\n",
    "\n",
    "CREATE VIEW SuicideNoBr2010 AS\n",
    "SELECT CAST(SUM(S.suicidio) AS DOUBLE) suicidio\n",
    "FROM Suicidios S\n",
    "WHERE S.country = 'Brazil' AND S.year = 2010 AND S.age = '25-34 years';\n",
    "\n",
    "SELECT ( ( (S10.suicidio/S07.suicidio) - 1)*100) \n",
    "FROM SuicideNoBr2007 S07, SuicideNoBr2010 S10;"
   ]
  },
  {
   "cell_type": "markdown",
   "metadata": {},
   "source": [
    "## Queries para neo4j\n",
    "Nesta seção, levantamos algumas queries para relacionar com alguns filmes renomados do IMBd.\n",
    "\n",
    "De acordo com mudanças abruptas da taxa de suicídios, queremos verificar se houve lançamentos de filmes renomados e de cunho melancólico com objetivo de verificar o Efeito Werther.\n",
    "\n",
    "Primeiro, selecionamos dois países para estudo: Estados Unidos e França. Segundo, vamos verificar a diferença entre médias em 3 períodos distintos e, terceiro, vamos fazer uma rápida comparação entre a taxa de suicídio mais atual dos Millenials com outras gerações."
   ]
  },
  {
   "cell_type": "markdown",
   "metadata": {},
   "source": [
    "### Estado Unidos"
   ]
  },
  {
   "cell_type": "code",
   "execution_count": 9,
   "metadata": {},
   "outputs": [
    {
     "data": {
      "application/vnd.jupyter.widget-view+json": {
       "model_id": "b97081a3-f397-44e7-a6ec-cfb600a5132b",
       "version_major": 2,
       "version_minor": 0
      },
      "method": "display_data"
     },
     "metadata": {},
     "output_type": "display_data"
    }
   ],
   "source": [
    "SELECT MIN(year), MAX(year) \n",
    "FROM Suicidios \n",
    "WHERE country = 'United States'\n",
    "GROUP BY country;"
   ]
  },
  {
   "cell_type": "code",
   "execution_count": 10,
   "metadata": {},
   "outputs": [
    {
     "data": {
      "application/vnd.jupyter.widget-view+json": {
       "model_id": "4777b9aa-a1ff-487f-a4f3-d0c121c5736b",
       "version_major": 2,
       "version_minor": 0
      },
      "method": "display_data"
     },
     "metadata": {},
     "output_type": "display_data"
    },
    {
     "data": {
      "application/vnd.jupyter.widget-view+json": {
       "model_id": "1aaedcc0-e1a2-4560-97d8-589ed5f84a71",
       "version_major": 2,
       "version_minor": 0
      },
      "method": "display_data"
     },
     "metadata": {},
     "output_type": "display_data"
    },
    {
     "data": {
      "application/vnd.jupyter.widget-view+json": {
       "model_id": "94a6f765-9d1e-4bda-9e2c-a66873dd2377",
       "version_major": 2,
       "version_minor": 0
      },
      "method": "display_data"
     },
     "metadata": {},
     "output_type": "display_data"
    }
   ],
   "source": [
    "SELECT AVG(taxa_suicidio)\n",
    "FROM Suicidios\n",
    "WHERE country = 'United States' AND year >= 1985 AND year < 1995\n",
    "GROUP BY country;\n",
    "\n",
    "SELECT AVG(taxa_suicidio)\n",
    "FROM Suicidios \n",
    "WHERE country = 'United States' AND year >= 1995 AND year < 2005\n",
    "GROUP BY country;\n",
    "\n",
    "SELECT AVG(taxa_suicidio)\n",
    "FROM Suicidios\n",
    "WHERE country = 'United States' AND year >= 2005 AND year <= 2015\n",
    "GROUP BY country;"
   ]
  },
  {
   "cell_type": "markdown",
   "metadata": {},
   "source": [
    "### France"
   ]
  },
  {
   "cell_type": "code",
   "execution_count": 11,
   "metadata": {},
   "outputs": [
    {
     "data": {
      "application/vnd.jupyter.widget-view+json": {
       "model_id": "a7bc74a0-6b4c-4ed0-aa85-8be977349a87",
       "version_major": 2,
       "version_minor": 0
      },
      "method": "display_data"
     },
     "metadata": {},
     "output_type": "display_data"
    }
   ],
   "source": [
    "SELECT MIN(year), MAX(year) \n",
    "FROM Suicidios \n",
    "WHERE country = 'France'\n",
    "GROUP BY country;"
   ]
  },
  {
   "cell_type": "code",
   "execution_count": 12,
   "metadata": {},
   "outputs": [
    {
     "data": {
      "application/vnd.jupyter.widget-view+json": {
       "model_id": "d3982c71-ae76-4afa-ba81-657585412c4b",
       "version_major": 2,
       "version_minor": 0
      },
      "method": "display_data"
     },
     "metadata": {},
     "output_type": "display_data"
    },
    {
     "data": {
      "application/vnd.jupyter.widget-view+json": {
       "model_id": "3f6da90c-1deb-4abe-8972-f485ee8ad821",
       "version_major": 2,
       "version_minor": 0
      },
      "method": "display_data"
     },
     "metadata": {},
     "output_type": "display_data"
    },
    {
     "data": {
      "application/vnd.jupyter.widget-view+json": {
       "model_id": "d47aa70e-8aff-4c27-94ac-f4d103945f35",
       "version_major": 2,
       "version_minor": 0
      },
      "method": "display_data"
     },
     "metadata": {},
     "output_type": "display_data"
    }
   ],
   "source": [
    "SELECT AVG(taxa_suicidio)\n",
    "FROM Suicidios\n",
    "WHERE country = 'France' AND year >= 1985 AND year < 1995\n",
    "GROUP BY country;\n",
    "\n",
    "SELECT AVG(taxa_suicidio)\n",
    "FROM Suicidios \n",
    "WHERE country = 'France' AND year >= 1995 AND year < 2005\n",
    "GROUP BY country;\n",
    "\n",
    "SELECT AVG(taxa_suicidio)\n",
    "FROM Suicidios\n",
    "WHERE country = 'France' AND year >= 2005 AND year < 2015\n",
    "GROUP BY country;"
   ]
  },
  {
   "cell_type": "markdown",
   "metadata": {},
   "source": [
    "### Brazil"
   ]
  },
  {
   "cell_type": "code",
   "execution_count": 13,
   "metadata": {},
   "outputs": [
    {
     "data": {
      "application/vnd.jupyter.widget-view+json": {
       "model_id": "a57db116-8315-4f4f-b94c-6480e116bfa2",
       "version_major": 2,
       "version_minor": 0
      },
      "method": "display_data"
     },
     "metadata": {},
     "output_type": "display_data"
    }
   ],
   "source": [
    "SELECT MIN(year), MAX(year) \n",
    "FROM Suicidios \n",
    "WHERE country = 'Brazil'\n",
    "GROUP BY country;"
   ]
  },
  {
   "cell_type": "code",
   "execution_count": 14,
   "metadata": {},
   "outputs": [
    {
     "data": {
      "application/vnd.jupyter.widget-view+json": {
       "model_id": "070cdc71-95a6-4cdd-b09f-e51b1dbbaa66",
       "version_major": 2,
       "version_minor": 0
      },
      "method": "display_data"
     },
     "metadata": {},
     "output_type": "display_data"
    },
    {
     "data": {
      "application/vnd.jupyter.widget-view+json": {
       "model_id": "4015571b-87f9-4528-82bc-e50282ad1f61",
       "version_major": 2,
       "version_minor": 0
      },
      "method": "display_data"
     },
     "metadata": {},
     "output_type": "display_data"
    },
    {
     "data": {
      "application/vnd.jupyter.widget-view+json": {
       "model_id": "0cfe820d-8b6a-49c9-9037-7a435dba5ec4",
       "version_major": 2,
       "version_minor": 0
      },
      "method": "display_data"
     },
     "metadata": {},
     "output_type": "display_data"
    }
   ],
   "source": [
    "SELECT AVG(taxa_suicidio)\n",
    "FROM Suicidios\n",
    "WHERE country = 'Brazil' AND year >= 1985 AND year < 1995\n",
    "GROUP BY country;\n",
    "\n",
    "SELECT AVG(taxa_suicidio)\n",
    "FROM Suicidios \n",
    "WHERE country = 'Brazil' AND year >= 1995 AND year < 2005\n",
    "GROUP BY country;\n",
    "\n",
    "SELECT AVG(taxa_suicidio)\n",
    "FROM Suicidios\n",
    "WHERE country = 'Brazil' AND year >= 2005 AND year <= 2015\n",
    "GROUP BY country;"
   ]
  },
  {
   "cell_type": "markdown",
   "metadata": {},
   "source": [
    "### Maiores taxas entre gerações \n",
    "Primeiro: comparativo entre pessoas da faixa etária de 15 a 24 anos, todos os anos.\n",
    "Segundo: comparativo entre pessoas da faixa etária de 15 a 24 anos, em 2014."
   ]
  },
  {
   "cell_type": "code",
   "execution_count": 15,
   "metadata": {},
   "outputs": [
    {
     "data": {
      "application/vnd.jupyter.widget-view+json": {
       "model_id": "7cbfcdd2-863a-4183-9283-1432f5efeacc",
       "version_major": 2,
       "version_minor": 0
      },
      "method": "display_data"
     },
     "metadata": {},
     "output_type": "display_data"
    },
    {
     "data": {
      "application/vnd.jupyter.widget-view+json": {
       "model_id": "51655ec1-750f-4967-8523-213d170edb99",
       "version_major": 2,
       "version_minor": 0
      },
      "method": "display_data"
     },
     "metadata": {},
     "output_type": "display_data"
    }
   ],
   "source": [
    "DROP VIEW MaioresTaxas IF EXISTS;\n",
    "DROP VIEW MediaDosAnos IF EXISTS;\n",
    "\n",
    "CREATE VIEW MediaDosAnos AS SELECT country, age, AVG(taxa_suicidio) media_taxa\n",
    "FROM Suicidios\n",
    "GROUP BY country, age\n",
    "HAVING media_taxa > 0;\n",
    "\n",
    "CREATE VIEW MaioresTaxas AS SELECT country, age, MAX(media_taxa)\n",
    "FROM MediaDosAnos\n",
    "GROUP BY country, age;\n",
    "\n",
    "SELECT COUNT(age) FROM MaioresTaxas;\n",
    "SELECT COUNT(age) FROM MaioresTaxas WHERE age = '15-24 years';"
   ]
  },
  {
   "cell_type": "code",
   "execution_count": 16,
   "metadata": {},
   "outputs": [
    {
     "data": {
      "application/vnd.jupyter.widget-view+json": {
       "model_id": "267fef28-b5e7-45df-8272-bbc32c37065c",
       "version_major": 2,
       "version_minor": 0
      },
      "method": "display_data"
     },
     "metadata": {},
     "output_type": "display_data"
    },
    {
     "data": {
      "application/vnd.jupyter.widget-view+json": {
       "model_id": "4a4fb14d-9f25-4127-aed8-c06fcfa362b6",
       "version_major": 2,
       "version_minor": 0
      },
      "method": "display_data"
     },
     "metadata": {},
     "output_type": "display_data"
    }
   ],
   "source": [
    "DROP VIEW MaioresTaxas IF EXISTS;\n",
    "DROP VIEW MediaDosAnos IF EXISTS;\n",
    "\n",
    "CREATE VIEW MediaDosAnos AS SELECT country, age, AVG(taxa_suicidio) media_taxa\n",
    "FROM Suicidios\n",
    "WHERE year = 2014\n",
    "GROUP BY country, age\n",
    "HAVING media_taxa > 0;\n",
    "\n",
    "CREATE VIEW MaioresTaxas AS SELECT country, age, MAX(media_taxa)\n",
    "FROM MediaDosAnos\n",
    "GROUP BY country, age;\n",
    "\n",
    "SELECT COUNT(age) FROM MaioresTaxas;\n",
    "SELECT COUNT(age) FROM MaioresTaxas WHERE age = '15-24 years';"
   ]
  }
 ],
 "metadata": {
  "kernelspec": {
   "display_name": "SQL",
   "language": "SQL",
   "name": "sql"
  },
  "language_info": {
   "codemirror_mode": "sql",
   "file_extension": ".sql",
   "mimetype": "",
   "name": "SQL",
   "nbconverter_exporter": "",
   "version": ""
  }
 },
 "nbformat": 4,
 "nbformat_minor": 4
}
