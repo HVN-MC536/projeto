{
 "cells": [
  {
   "cell_type": "markdown",
   "metadata": {},
   "source": [
    "# Primeira Querie\n",
    "\n",
    "Foi importado a tabela de dados para o Cypher com a seguinte querie\n",
    "\n",
    "~~~~cypher\n",
    "LOAD CSV WITH HEADERS FROM 'https://raw.githubusercontent.com/HVN-MC536/projeto/main/stage04/data/processed/redessociais.csv' AS line\n",
    "CREATE (p1:Ano {name:toInteger(line.Ano)})\n",
    "CREATE (p2:Facebook {name:toInteger(line.Facebook)})\n",
    "CREATE (p3:Twitter {name:toInteger(line.Twitter)})\n",
    "MERGE (p4:Instagram {name:line.Instagram})\n",
    "MERGE (p5:UsoDiario {name:line.UsoDario})\n",
    "CREATE (p1)-[:FaceUsers]->(p2)\n",
    "CREATE (p1)-[:TTUsers]->(p3)\n",
    "CREATE (p1)-[:InstaUsers]->(p4)\n",
    "CREATE (p1)-[:UsoDiario]->(p5)\n",
    "~~~~"
   ]
  },
  {
   "cell_type": "markdown",
   "metadata": {},
   "source": [
    "# Segunda Querie\n",
    "\n",
    "Ligou-se os nós anos\n",
    "\n",
    "~~~~cypher\n",
    "MATCH (a:Ano)\n",
    "MATCH (b:Ano)\n",
    "WHERE a.name = b.name + 1\n",
    "CREATE (b)-[:Proximo]-> (a)\n",
    "~~~~"
   ]
  },
  {
   "cell_type": "markdown",
   "metadata": {},
   "source": [
    "# Problema Encontrado\n",
    "\n",
    "Olhando o grafo resultante, observamos não ser possível realizar alguma anális"
   ]
  }
 ],
 "metadata": {
  "kernelspec": {
   "display_name": "SQL",
   "language": "SQL",
   "name": "sql"
  },
  "language_info": {
   "codemirror_mode": "sql",
   "file_extension": ".sql",
   "mimetype": "",
   "name": "SQL",
   "nbconverter_exporter": "",
   "version": ""
  }
 },
 "nbformat": 4,
 "nbformat_minor": 4
}
